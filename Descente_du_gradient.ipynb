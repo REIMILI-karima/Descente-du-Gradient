{
 "cells": [
  {
   "cell_type": "markdown",
   "metadata": {
    "id": "j1_GBEAaf2e0"
   },
   "source": [
    "# TP 2 Descente du Gradient\n",
    "Dans ce TP, nous aimerions prédire le bénéfice d'une entreprise dans plusieurs ville en nous basant sur les habitant de cette ville.\n",
    "\n",
    "Pour ce faire, nous étudierons un ensemble de données avec le bénéfice (y) et les caractéristiques des habitants (X).\n",
    "\n",
    "La prédiction se fera avec l'agorithme de descente du gradient."
   ]
  },
  {
   "cell_type": "markdown",
   "metadata": {
    "id": "xqXVyDtlf2e4"
   },
   "source": [
    "# Importation des librairies necessaires au travail"
   ]
  },
  {
   "cell_type": "code",
   "execution_count": 13,
   "metadata": {
    "id": "Z7Ut1MyHf2e4"
   },
   "outputs": [],
   "source": [
    "import numpy as np\n",
    "import matplotlib.pyplot as plt\n"
   ]
  },
  {
   "cell_type": "markdown",
   "metadata": {
    "id": "ekH1R_JWf2e5"
   },
   "source": [
    "# Lecture des fichiers de données\n",
    "Pour ce TP, nous allons lire les données à partir d'un fichier csv."
   ]
  },
  {
   "cell_type": "code",
   "execution_count": 14,
   "metadata": {
    "id": "GsEfLfb6f2e6",
    "outputId": "6bfb8c10-c80a-43ad-cd7f-7bfcd73e64e6"
   },
   "outputs": [
    {
     "data": {
      "text/plain": [
       "(97, 2)"
      ]
     },
     "execution_count": 14,
     "metadata": {},
     "output_type": "execute_result"
    }
   ],
   "source": [
    "# données\n",
    "data = np.genfromtxt('data.csv', delimiter=',', dtype=int)\n",
    "data.shape"
   ]
  },
  {
   "cell_type": "markdown",
   "metadata": {
    "id": "hYl6Ry2Uf2e7"
   },
   "source": [
    "Dans ces données (data), la première colonne represente la première caractéristique (la population d'une ville x1000), la deuxieme colonne represente le bénéfice (x1000).\n",
    "\n",
    "Chaque ligne represente un exemple de notre ensemble de données. \n",
    "\n",
    "Mettons ces données dans leus vecteurs correspondants."
   ]
  },
  {
   "cell_type": "code",
   "execution_count": 15,
   "metadata": {
    "id": "ocIjARGwf2e7"
   },
   "outputs": [
    {
     "name": "stdout",
     "output_type": "stream",
     "text": [
      "(97, 2)\n",
      "(97,)\n"
     ]
    }
   ],
   "source": [
    "# rajoutons l'ordonnée à l'origine theta 0\n",
    "intercept=np.ones((data.shape[0],1))\n",
    "X=np.column_stack((intercept,data[:,0]))\n",
    "print (X.shape)\n",
    "y = data[:, 1]\n",
    "print (y.shape)"
   ]
  },
  {
   "cell_type": "code",
   "execution_count": 16,
   "metadata": {
    "id": "UZzbI6m9f2e8",
    "outputId": "d765b692-dda2-4cd4-ee58-cdc319c8a8c5"
   },
   "outputs": [
    {
     "data": {
      "text/plain": [
       "Text(0, 0.5, 'Bénéfice x1000')"
      ]
     },
     "execution_count": 16,
     "metadata": {},
     "output_type": "execute_result"
    },
    {
     "data": {
      "image/png": "[encoded data removed]",
      "text/plain": [
       "<Figure size 432x288 with 1 Axes>"
      ]
     },
     "metadata": {
      "needs_background": "light"
     },
     "output_type": "display_data"
    }
   ],
   "source": [
    "# traçons ces données pour visualisation\n",
    "plt.scatter(X[:,1],y,marker ='x')\n",
    "plt.xlabel('Population x 1000')\n",
    "plt.ylabel('Bénéfice x1000')"
   ]
  },
  {
   "cell_type": "markdown",
   "metadata": {
    "id": "LEvfJ63Vf2e9"
   },
   "source": [
    "# Descente du Gradient : Préparation des fonctions"
   ]
  },
  {
   "cell_type": "markdown",
   "metadata": {
    "id": "GGTO0spOf2e9"
   },
   "source": [
    "1- Calcul du coût\n",
    "\n",
    "Cette fonction servira à calculer le cout $J(\\theta_0,\\theta_1)$\n",
    "\n",
    "Elle prendra l'ensemble de données d'apprentissage en entrée ainsi que les paramètres définis initialement"
   ]
  },
  {
   "cell_type": "code",
   "execution_count": null,
   "metadata": {
    "id": "Cfi6ay_Lf2e-"
   },
   "outputs": [],
   "source": []
  },
  {
   "cell_type": "code",
   "execution_count": 17,
   "metadata": {
    "id": "S8QKCQzFf2e-"
   },
   "outputs": [],
   "source": [
    "def computeCost(X, y, theta):\n",
    "    # idéalement, tracer le coût à chaque itération pour s'assurer que la descente du gradient est correcte\n",
    "    \n",
    "    # calculer le coût avec et sans vectorisation, \n",
    "    # comparer le temps de traitement\n",
    "    n = len(X)\n",
    "    h = X.dot(theta)\n",
    "    mse = np.sum(((y-h) ** 2),axis=0) /n\n",
    "    return mse\n",
    "  "
   ]
  },
  {
   "cell_type": "markdown",
   "metadata": {
    "id": "e5y3h-Dif2e_"
   },
   "source": [
    "2- Fonction de la descente du gradient\n",
    "\n",
    "Cette fonction mettra à jour les paramètres $\\theta_0,\\theta_1$ jusqu'à convergence: atteinte du nombre d'itérations max, ou dérivée assez petite."
   ]
  },
  {
   "cell_type": "code",
   "execution_count": 18,
   "metadata": {
    "id": "7hLdOX_8f2e_"
   },
   "outputs": [],
   "source": [
    "def gradientDescent(X, y, theta, alpha, iterations):\n",
    "    m = len(X)\n",
    "    thetas=[]\n",
    "    costs=[]\n",
    "    thetas.append(theta)\n",
    "    for iter in range(iterations):\n",
    "        # Enregistrement de la fonction de coût\n",
    "        cost = computeCost(X, y, theta)\n",
    "        costs.append(cost)\n",
    "        # Calcul de la prédiction h(x) = X * theta\n",
    "        h = X.dot(theta)\n",
    "        # Calcul de l'erreur\n",
    "        error =y-h\n",
    "        delth=(-2/m)*( X.T.dot(error))\n",
    "        # Mise à jour des paramètres\n",
    "        theta = theta - alpha  * delth \n",
    "        thetas.append(theta)\n",
    "        \n",
    "    return np.expand_dims(np.array(costs),axis=1),np.array(thetas)"
   ]
  },
  {
   "cell_type": "markdown",
   "metadata": {
    "id": "Ibj4xistf2e_"
   },
   "source": [
    "# Descente du Gradient : Appel des fonctions"
   ]
  },
  {
   "cell_type": "markdown",
   "metadata": {
    "id": "fndIe1A0f2e_"
   },
   "source": [
    "Initialisation de $\\theta_0$ et $\\theta_1$"
   ]
  },
  {
   "cell_type": "code",
   "execution_count": 19,
   "metadata": {
    "id": "hM0d6keyf2fA"
   },
   "outputs": [
    {
     "name": "stdout",
     "output_type": "stream",
     "text": [
      "(2,)\n"
     ]
    }
   ],
   "source": [
    "theta = np.zeros(2)\n",
    "print(theta.shape)"
   ]
  },
  {
   "cell_type": "markdown",
   "metadata": {
    "id": "_QNKuRyMf2fA"
   },
   "source": [
    "Calculer le cout initial"
   ]
  },
  {
   "cell_type": "code",
   "execution_count": 20,
   "metadata": {
    "id": "1k9uq5olf2fA"
   },
   "outputs": [
    {
     "name": "stdout",
     "output_type": "stream",
     "text": [
      "()\n"
     ]
    }
   ],
   "source": [
    "initialCost=computeCost(X, y, theta)\n",
    "print(initialCost.shape)"
   ]
  },
  {
   "cell_type": "markdown",
   "metadata": {
    "id": "oa2KSvlDf2fA"
   },
   "source": [
    "Appel des la fonction de calcul du gradient"
   ]
  },
  {
   "cell_type": "code",
   "execution_count": 21,
   "metadata": {
    "id": "QOAjE5Saf2fA"
   },
   "outputs": [
    {
     "name": "stdout",
     "output_type": "stream",
     "text": [
      "(301, 2)\n"
     ]
    }
   ],
   "source": [
    "# paramètres\n",
    "iterations = 300\n",
    "alpha = 0.01\n",
    "# Appel\n",
    "costs,thetas = gradientDescent(X, y, theta, alpha, iterations)\n",
    "print(thetas.shape)"
   ]
  },
  {
   "cell_type": "markdown",
   "metadata": {
    "id": "19K_Y5kif2fB"
   },
   "source": [
    "Traçage de la fonction du coût"
   ]
  },
  {
   "cell_type": "markdown",
   "metadata": {
    "id": "OSXiphr2f2fB"
   },
   "source": [
    "Notons que $\\theta^T  x$ est équivalent à $X  \\theta $ où $X= \\begin{pmatrix}\n",
    "..(x^{(1)})^T..\\\\\n",
    "..(x^{(2)})^T..\\\\\n",
    ".\\\\\n",
    ".\\\\\n",
    ".\\\\\n",
    "..(x^{(m)})^T..\n",
    "\\end{pmatrix} $"
   ]
  },
  {
   "cell_type": "code",
   "execution_count": 22,
   "metadata": {
    "id": "MkG1iz5qf2fB",
    "outputId": "9c659a66-e423-48f7-ee40-87155019717c"
   },
   "outputs": [
    {
     "data": {
      "text/plain": [
       "[<matplotlib.lines.Line2D at 0x18b9709fe20>]"
      ]
     },
     "execution_count": 22,
     "metadata": {},
     "output_type": "execute_result"
    },
    {
     "data": {
      "image/png": "[encoded data removed]",
      "text/plain": [
       "<Figure size 432x288 with 1 Axes>"
      ]
     },
     "metadata": {
      "needs_background": "light"
     },
     "output_type": "display_data"
    }
   ],
   "source": [
    "y_pred=np.matmul(X,thetas[-1])\n",
    "plt.scatter(X[:,1],y)\n",
    "plt.xlabel('Population x 1000')\n",
    "plt.ylabel('Chiffre d\\'affaires x1000')\n",
    "plt.plot(X[:,1],y_pred)\n",
    "# la ligne du graphe represente le traçage de la fonction hypothèse\n",
    "# la ligne devrait se rapprocher des données après entrainement avec la descente du gredient"
   ]
  },
  {
   "cell_type": "markdown",
   "metadata": {
    "id": "ydF1kmH_f2fB"
   },
   "source": [
    "Traçage du coût en fonction de theta0 et theta1"
   ]
  },
  {
   "cell_type": "code",
   "execution_count": 23,
   "metadata": {
    "id": "pvs0tWIFf2fB"
   },
   "outputs": [],
   "source": [
    "def tangent_fun(X,y,theta,theta_star):\n",
    "    error=y-X.dot(theta)\n",
    "    dalta=(-2/len(X))*( X.T.dot(error))\n",
    "    mse=computeCost(X,y,theta_star)\n",
    "    result=dalta[0]*(theta[0]-theta_star[0])+dalta[1]*(theta[1]-theta_star[1])+mse\n",
    "    return result"
   ]
  },
  {
   "cell_type": "code",
   "execution_count": 24,
   "metadata": {},
   "outputs": [
    {
     "name": "stdout",
     "output_type": "stream",
     "text": [
      "[-2.60199082  1.06700652]\n"
     ]
    },
    {
     "data": {
      "image/png": "[encoded data removed]",
      "text/plain": [
       "<Figure size 432x288 with 1 Axes>"
      ]
     },
     "metadata": {
      "needs_background": "light"
     },
     "output_type": "display_data"
    }
   ],
   "source": [
    "theta_star=thetas[-1]\n",
    "print(theta_star)\n",
    "x_thetas0=y_thetas1=np.arange(-3.5,3.5,0.05)\n",
    "thetas0,thetas1= np.meshgrid(x_thetas0, y_thetas1)\n",
    "z_mse=np.array([computeCost(X, y, np.array([theta0,theta1]) )for theta0,theta1 in zip(np.ravel(thetas0),np.ravel(thetas1))])\n",
    "z_mse =z_mse.reshape(thetas0.shape)\n",
    "tangent=np.array([tangent_fun(X, y, np.array([theta0,theta1]),theta_star) for theta0,theta1 in zip(np.ravel(thetas0),np.ravel(thetas1))])\n",
    "tangent =tangent.reshape(thetas0.shape)\n",
    "fig=plt.figure()\n",
    "ax = plt.axes(projection='3d')\n",
    "ax.plot_surface(thetas0, thetas1,z_mse)\n",
    "ax.plot_surface(thetas0, thetas1,tangent)\n",
    "ax.scatter(thetas[-1,0],thetas[-1,1],computeCost(X, y,thetas[-1]),marker='D')\n",
    "ax.set_xlabel('theta0')\n",
    "ax.set_ylabel('theta1')\n",
    "ax.set_zlabel('MSE')\n",
    "plt.show()"
   ]
  },
  {
   "cell_type": "markdown",
   "metadata": {
    "id": "2VZ9MGMnf2fC"
   },
   "source": [
    "Prédire des valeurs de y"
   ]
  },
  {
   "cell_type": "code",
   "execution_count": 25,
   "metadata": {
    "id": "2vaMZaA0f2fC",
    "outputId": "07c3ca20-2552-4fa5-85c4-8051bed5510a"
   },
   "outputs": [
    {
     "data": {
      "text/plain": [
       "0.0"
      ]
     },
     "execution_count": 25,
     "metadata": {},
     "output_type": "execute_result"
    }
   ],
   "source": [
    "# Predire pour une opulation = 35,000 et 70,000\n",
    "predict1 = np.matmul([1, 3.5],theta)\n",
    "predict1"
   ]
  },
  {
   "cell_type": "code",
   "execution_count": 26,
   "metadata": {
    "id": "1rQhJ7bEf2fC",
    "outputId": "808f885f-a159-40b3-bc98-19ac1276c00f"
   },
   "outputs": [
    {
     "data": {
      "text/plain": [
       "0.0"
      ]
     },
     "execution_count": 26,
     "metadata": {},
     "output_type": "execute_result"
    }
   ],
   "source": [
    "predict2 = np.matmul([1, 7],theta)\n",
    "predict2"
   ]
  },
  {
   "cell_type": "markdown",
   "metadata": {
    "id": "_nksg6iNf2fC"
   },
   "source": [
    "# Régression linéaire à plusieurs variables"
   ]
  },
  {
   "cell_type": "markdown",
   "metadata": {
    "id": "_8j0lTWkf2fC"
   },
   "source": [
    "Proposer, l'aide des fonctions définies precedemment, une regression linéaire lorsque le nombre de descripeurs est supérieur à 1, en utilisant la base d'apprentissage suivante"
   ]
  },
  {
   "cell_type": "code",
   "execution_count": 140,
   "metadata": {
    "id": "kSNx25FIf2fC",
    "outputId": "2015ff14-5c51-4c0c-8e04-42d6807e34ad"
   },
   "outputs": [
    {
     "data": {
      "text/plain": [
       "(47, 3)"
      ]
     },
     "execution_count": 140,
     "metadata": {},
     "output_type": "execute_result"
    }
   ],
   "source": [
    "# données\n",
    "dataMulti = np.genfromtxt('dataMulti.csv', delimiter=',', dtype=int)\n",
    "dataMulti.shape"
   ]
  },
  {
   "cell_type": "markdown",
   "metadata": {
    "id": "p0bfXUybf2fD"
   },
   "source": [
    "Pour cette ensemble de données, nous voudrions prédire le prix d'une maison (3ème colonne de dataMulti) à partir de :\n",
    "- sa supérficie (1ère colonne)\n",
    "- son nombre de chambres (2ème colonne)"
   ]
  },
  {
   "cell_type": "code",
   "execution_count": 141,
   "metadata": {
    "id": "3u_rp_3xf2fD"
   },
   "outputs": [],
   "source": [
    "# d'abord créer X et y\n",
    "x=np.concatenate([np.ones((dataMulti.shape[0],1)),dataMulti[:,0:2]],axis=1)\n",
    "y=dataMulti[:,1]"
   ]
  },
  {
   "cell_type": "code",
   "execution_count": 142,
   "metadata": {
    "id": "cSKcjaI_f2fD"
   },
   "outputs": [],
   "source": [
    "# redéfinissez vos fonctions de coût si cela est necessaire\n"
   ]
  },
  {
   "cell_type": "markdown",
   "metadata": {
    "id": "NdJaM9m_f2fD"
   },
   "source": [
    "Mise à l'échelle des données"
   ]
  },
  {
   "cell_type": "code",
   "execution_count": 143,
   "metadata": {
    "id": "H0H2WkGif2fD"
   },
   "outputs": [],
   "source": [
    "from sklearn.preprocessing import StandardScaler"
   ]
  },
  {
   "cell_type": "markdown",
   "metadata": {
    "id": "DBcDA_DCf2fD"
   },
   "source": [
    "Normalisation des données en moyenne = 0"
   ]
  },
  {
   "cell_type": "code",
   "execution_count": 144,
   "metadata": {
    "id": "OyCIvOb1f2fD"
   },
   "outputs": [],
   "source": [
    "scaler = StandardScaler()\n",
    "scaler.fit(x)\n",
    "x_norml=scaler.transform(x)"
   ]
  },
  {
   "cell_type": "markdown",
   "metadata": {
    "id": "vpQf_JxEf2fD"
   },
   "source": [
    "Appliquer la descente du gradient à plusieurs variables"
   ]
  },
  {
   "cell_type": "code",
   "execution_count": 145,
   "metadata": {
    "id": "WLfWC_WIf2fE"
   },
   "outputs": [
    {
     "name": "stderr",
     "output_type": "stream",
     "text": [
      "C:\\Users\\Client\\AppData\\Local\\Temp\\ipykernel_9064\\4101000071.py:8: RuntimeWarning: overflow encountered in square\n",
      "  mse = np.sum(((y-h) ** 2),axis=0) /n\n",
      "C:\\Users\\Client\\AppData\\Local\\Temp\\ipykernel_9064\\3431143497.py:16: RuntimeWarning: invalid value encountered in subtract\n",
      "  theta = theta - alpha  * delth\n"
     ]
    },
    {
     "data": {
      "text/plain": [
       "[<matplotlib.lines.Line2D at 0x18ba0378430>]"
      ]
     },
     "execution_count": 145,
     "metadata": {},
     "output_type": "execute_result"
    },
    {
     "data": {
      "image/png": "[encoded data removed]",
      "text/plain": [
       "<Figure size 432x288 with 1 Axes>"
      ]
     },
     "metadata": {
      "needs_background": "light"
     },
     "output_type": "display_data"
    }
   ],
   "source": [
    "iterations =1500\n",
    "alpha=0.01\n",
    "theta=np.zeros(3)\n",
    "costs,thetas = gradientDescent(x, y, theta, alpha, iterations)\n",
    "plt.xlabel('Population x 1000')\n",
    "plt.ylabel('Chiffre d\\'affaires x1000')\n",
    "plt.plot(np.arange(iterations),costs[:,0])"
   ]
  },
  {
   "cell_type": "code",
   "execution_count": 146,
   "metadata": {},
   "outputs": [
    {
     "data": {
      "text/plain": [
       "[<matplotlib.lines.Line2D at 0x18ba0308e50>]"
      ]
     },
     "execution_count": 146,
     "metadata": {},
     "output_type": "execute_result"
    },
    {
     "data": {
      "image/png": "[encoded data removed]",
      "text/plain": [
       "<Figure size 432x288 with 1 Axes>"
      ]
     },
     "metadata": {
      "needs_background": "light"
     },
     "output_type": "display_data"
    }
   ],
   "source": [
    "iterations =1500\n",
    "alpha=0.01\n",
    "costs,thetas = gradientDescent(x_norml, y, theta, alpha, iterations)\n",
    "plt.xlabel('Population x 1000')\n",
    "plt.ylabel('Chiffre d\\'affaires x1000')\n",
    "plt.plot(np.arange(iterations),costs[:,0])"
   ]
  },
  {
   "cell_type": "markdown",
   "metadata": {
    "id": "Kad6xSS4f2fE"
   },
   "source": [
    "Comparer la descente du gradient avec et sans normalisation\n",
    "- **Exemple**: voir la difference dans le temps de calcul"
   ]
  },
  {
   "cell_type": "code",
   "execution_count": 147,
   "metadata": {
    "id": "KVKREJTZf2fE"
   },
   "outputs": [
    {
     "name": "stderr",
     "output_type": "stream",
     "text": [
      "C:\\Users\\Client\\AppData\\Local\\Temp\\ipykernel_9064\\4101000071.py:8: RuntimeWarning: overflow encountered in square\n",
      "  mse = np.sum(((y-h) ** 2),axis=0) /n\n",
      "C:\\Users\\Client\\AppData\\Local\\Temp\\ipykernel_9064\\3431143497.py:16: RuntimeWarning: invalid value encountered in subtract\n",
      "  theta = theta - alpha  * delth\n"
     ]
    },
    {
     "name": "stdout",
     "output_type": "stream",
     "text": [
      "Temps de calcul sans normalisation : 0.2998 secondes\n"
     ]
    }
   ],
   "source": [
    "from time import time\n",
    "start = time()\n",
    "costs,thetas = gradientDescent(x, y, theta, alpha, iterations)\n",
    "end = time()\n",
    "print(f\"Temps de calcul sans normalisation : {end - start:.4f} secondes\")"
   ]
  },
  {
   "cell_type": "code",
   "execution_count": 148,
   "metadata": {},
   "outputs": [
    {
     "name": "stdout",
     "output_type": "stream",
     "text": [
      "Temps de calcul avec normalisation : 0.2643 secondes\n"
     ]
    }
   ],
   "source": [
    "start = time()\n",
    "costs,thetas = gradientDescent(x_norml, y, theta, alpha, iterations)\n",
    "end = time()\n",
    "print(f\"Temps de calcul avec normalisation : {end - start:.4f} secondes\")"
   ]
  },
  {
   "cell_type": "markdown",
   "metadata": {
    "id": "r9NX3t8wf2fE"
   },
   "source": [
    "# Vérification de l'implementation\n",
    "Comparer vos algorithmes à ceux de scikitlearn"
   ]
  },
  {
   "cell_type": "code",
   "execution_count": 149,
   "metadata": {
    "id": "Cb34UwI9f2fE"
   },
   "outputs": [
    {
     "name": "stdout",
     "output_type": "stream",
     "text": [
      "Manuel : Coefficients : [     0.         109447.66435301  -6578.17562431]\n",
      "scikitlearn : Coefficients : [    0.           139.21063465 -8737.91542019]\n"
     ]
    }
   ],
   "source": [
    "import numpy as np\n",
    "from sklearn.linear_model import LinearRegression\n",
    "\n",
    "# Charger les données\n",
    "dataMulti = np.genfromtxt('dataMulti.csv', delimiter=',', dtype=int)\n",
    "\n",
    "# Séparer les variables explicatives et la variable cible\n",
    "X = dataMulti[:,0:2]\n",
    "y = dataMulti[:,2]\n",
    "\n",
    "# Initialiser les modèles\n",
    "costs,thetas = gradientDescent(x_norml, y, theta, alpha, iterations)\n",
    "sklearn_model = LinearRegression()\n",
    "\n",
    "# Entraîner les modèles\n",
    "\n",
    "sklearn_model.fit(x, y)\n",
    "\n",
    "\n",
    "\n",
    "# Afficher les résultats\n",
    "print(\"Manuel : Coefficients :\", thetas[-1])\n",
    "\n",
    "\n",
    "print(\"scikitlearn : Coefficients :\", sklearn_model.coef_)\n",
    "\n",
    "\n"
   ]
  },
  {
   "cell_type": "code",
   "execution_count": 150,
   "metadata": {},
   "outputs": [
    {
     "name": "stdout",
     "output_type": "stream",
     "text": [
      "Temps d'exécution gradientDescent : 0.2349 secondes\n",
      "Temps d'exécution scikitlearn : 0.0060 secondes\n"
     ]
    }
   ],
   "source": [
    "# Mesure le temps d'exécution de la fonction gradientDescentMulti\n",
    "from sklearn.linear_model import LinearRegression\n",
    "start = time()\n",
    "costs,thetas = gradientDescent(x_norml, y, theta, alpha, iterations)\n",
    "end = time()\n",
    "print(f\"Temps d'exécution gradientDescent : {end - start:.4f} secondes\")\n",
    "\n",
    "# Mesure le temps d'exécution de la fonction fit de scikit-learn\n",
    "start = time()\n",
    "model = LinearRegression()\n",
    "model.fit(x_norml, y)\n",
    "end = time()\n",
    "print(f\"Temps d'exécution scikitlearn : {end - start:.4f} secondes\")\n"
   ]
  },
  {
   "cell_type": "markdown",
   "metadata": {
    "id": "myj4lVHTf2fE"
   },
   "source": [
    "# Renforcement d'apprentissage\n",
    "Mettre ici toute idée qui pourrait renforcer votre apprentissage"
   ]
  },
  {
   "cell_type": "raw",
   "metadata": {
    "id": "nyk59F2Lf2fE"
   },
   "source": [
    "Voici quelques idées pour renforcer l'apprentissage de la régression linéaire multiple :\n",
    "\n",
    "Ajouter des variables explicatives : Vous pouvez ajouter d'autres variables explicatives qui pourraient influencer le prix des maisons, telles que la localisation, la proximité des écoles, des commerces, etc. Cela peut améliorer les performances du modèle.\n",
    "\n",
    "Utiliser des techniques de sélection de variables : Si vous disposez de nombreuses variables explicatives, vous pouvez utiliser des techniques de sélection de variables pour identifier les variables les plus importantes pour la prédiction des prix. Cela peut réduire la complexité du modèle et améliorer sa capacité à généraliser.\n",
    "\n",
    "Utiliser des régularisations : Si le modèle est trop complexe ou si les variables sont corrélées, la régularisation peut aider à éviter le surapprentissage. Les régularisations L1 et L2 peuvent être utilisées avec la régression linéaire multiple.\n",
    "\n",
    "Explorer d'autres algorithmes : Il existe d'autres algorithmes de régression linéaire multiple, tels que la régression ridge, la régression Lasso et la régression ElasticNet. Vous pouvez explorer ces algorithmes pour voir comment ils se comportent sur votre ensemble de données."
   ]
  },
  {
   "cell_type": "markdown",
   "metadata": {
    "id": "4GkBHwqHf2fE"
   },
   "source": [
    "# Consignes"
   ]
  },
  {
   "cell_type": "markdown",
   "metadata": {
    "id": "6OLr8Sc6f2fE"
   },
   "source": [
    "Le travail est à remettre par groupe de 4 au maximum [1..4].\n",
    "\n",
    "Le délai est le vendredi 18 Mars 2022 à 22h\n"
   ]
  },
  {
   "cell_type": "code",
   "execution_count": 237,
   "metadata": {
    "id": "xJNAftmjf2fF"
   },
   "outputs": [],
   "source": [
    "# bonne chance"
   ]
  }
 ],
 "metadata": {
  "colab": {
   "name": "TP 2 Descente du gradient.ipynb",
   "provenance": []
  },
  "kernelspec": {
   "display_name": "Python 3 (ipykernel)",
   "language": "python",
   "name": "python3"
  },
  "language_info": {
   "codemirror_mode": {
    "name": "ipython",
    "version": 3
   },
   "file_extension": ".py",
   "mimetype": "text/x-python",
   "name": "python",
   "nbconvert_exporter": "python",
   "pygments_lexer": "ipython3",
   "version": "3.9.5"
  }
 },
 "nbformat": 4,
 "nbformat_minor": 1
}
